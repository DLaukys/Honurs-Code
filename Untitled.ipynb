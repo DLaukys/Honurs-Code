{
 "cells": [
  {
   "cell_type": "code",
   "execution_count": 9,
   "metadata": {},
   "outputs": [],
   "source": [
    "from __future__ import division # backward compatibility for python2\n",
    "import numpy as np\n",
    "import pandas as pd\n",
    "import scipy.special\n",
    "import operator\n",
    "import random\n",
    "import re\n",
    "#library for plotting arrays\n",
    "\n",
    "import matplotlib.pyplot as plt\n",
    "%matplotlib inline\n",
    "\n",
    "data_file = \"Contact.csv\""
   ]
  },
  {
   "cell_type": "code",
   "execution_count": 21,
   "metadata": {},
   "outputs": [],
   "source": [
    "import re\n",
    "\n",
    "\n",
    "df = pd.read_csv('Contact.csv')\n",
    "#Basic Text removal code its inefficient but it works, will be improved later.\n",
    "#Each Line removes the protocol settings as well as the www tag for cleaner searches which\n",
    "#will be used later.\n",
    "#This is part 1 of this data type where it is cleaned up for checking the emails later.\n",
    "\n",
    "text = open(\"Contact.csv\", \"r\")\n",
    "    text = ''.join([i for i in text]) \\\n",
    "    .replace(\"https://\",\"\")\n",
    "    x = open(\"output.csv\",\"w\")\n",
    "    x.writelines(text)\n",
    "    x.close()\n",
    "\n",
    "text = open(\"output.csv\", \"r\")\n",
    "    text = ''.join([i for i in text]) \\\n",
    "    .replace(\"http://\",\"\")\n",
    "    x = open(\"output.csv\",\"w\")\n",
    "    x.writelines(text)\n",
    "    x.close()\n",
    "\n",
    "text = open(\"output.csv\", \"r\")\n",
    "    text = ''.join([i for i in text]) \\\n",
    "    .replace(\"www.\",\"\")\n",
    "    x = open(\"ContactsNoProtocol.csv\",\"w\")\n",
    "    x.writelines(text)\n",
    "    x.close()"
   ]
  },
  {
   "cell_type": "code",
   "execution_count": null,
   "metadata": {},
   "outputs": [],
   "source": []
  },
  {
   "cell_type": "code",
   "execution_count": null,
   "metadata": {},
   "outputs": [],
   "source": []
  }
 ],
 "metadata": {
  "kernelspec": {
   "display_name": "Python 3",
   "language": "python",
   "name": "python3"
  },
  "language_info": {
   "codemirror_mode": {
    "name": "ipython",
    "version": 3
   },
   "file_extension": ".py",
   "mimetype": "text/x-python",
   "name": "python",
   "nbconvert_exporter": "python",
   "pygments_lexer": "ipython3",
   "version": "3.7.4"
  }
 },
 "nbformat": 4,
 "nbformat_minor": 2
}
